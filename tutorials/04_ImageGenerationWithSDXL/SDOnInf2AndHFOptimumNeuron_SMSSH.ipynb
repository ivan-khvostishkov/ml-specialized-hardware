{
 "cells": [
  {
   "cell_type": "markdown",
   "id": "c33c36d0-f910-4288-9527-cb8b75a59c38",
   "metadata": {
    "tags": []
   },
   "source": [
    "# Deploy SD2.1 to Inferentia2 + SageMaker + HF Optimum Neuron + SageMaker SSH Helper\n",
    "\n",
    "**SageMaker Studio Kernel**: Python 3 (PyTorch 1.13 Python 3.9 CPU Optimized)  \n",
    "**Instance**: ml.t3.medium\n",
    "\n",
    "SageMaker SSH Helper is the \"army-knife\" library that helps you to securely connect to training jobs, processing jobs, batch inference jobs and realtime inference endpoints as well as SageMaker Studio Notebooks and SageMaker Notebook Instances for fast interactive experimentation, remote debugging, and advanced troubleshooting.\n",
    "\n",
    "\n",
    "Learn more about remote development and debugging with SageMaker SSH Helper in the GitHub repository: [https://github.com/aws-samples/sagemaker-ssh-helper](https://github.com/aws-samples/sagemaker-ssh-helper)\n",
    "\n",
    "In this example we use SageMaker SSH Helper to connect to remote endpoint instance running on ml.inf2 instance."
   ]
  },
  {
   "cell_type": "markdown",
   "id": "dc514194-480e-422c-b9be-c39bf4b48760",
   "metadata": {
    "tags": []
   },
   "source": [
    "## 1) Update SageMaker SDK"
   ]
  },
  {
   "cell_type": "code",
   "execution_count": 17,
   "id": "5ddf072e-8c44-4394-8ca2-229db89915ad",
   "metadata": {
    "scrolled": true,
    "tags": [],
    "ExecuteTime": {
     "end_time": "2023-12-15T15:38:59.317044Z",
     "start_time": "2023-12-15T15:38:48.770401Z"
    }
   },
   "outputs": [
    {
     "name": "stdout",
     "output_type": "stream",
     "text": [
      "Requirement already satisfied: sagemaker in /opt/conda/lib/python3.10/site-packages (2.200.1)\r\n",
      "Requirement already satisfied: attrs<24,>=23.1.0 in /opt/conda/lib/python3.10/site-packages (from sagemaker) (23.1.0)\r\n",
      "Requirement already satisfied: boto3<2.0,>=1.33.3 in /opt/conda/lib/python3.10/site-packages (from sagemaker) (1.34.1)\r\n",
      "Requirement already satisfied: cloudpickle==2.2.1 in /opt/conda/lib/python3.10/site-packages (from sagemaker) (2.2.1)\r\n",
      "Requirement already satisfied: google-pasta in /opt/conda/lib/python3.10/site-packages (from sagemaker) (0.2.0)\r\n",
      "Requirement already satisfied: numpy<2.0,>=1.9.0 in /opt/conda/lib/python3.10/site-packages (from sagemaker) (1.26.0)\r\n",
      "Requirement already satisfied: protobuf<5.0,>=3.12 in /opt/conda/lib/python3.10/site-packages (from sagemaker) (4.24.4)\r\n",
      "Requirement already satisfied: smdebug-rulesconfig==1.0.1 in /opt/conda/lib/python3.10/site-packages (from sagemaker) (1.0.1)\r\n",
      "Requirement already satisfied: importlib-metadata<7.0,>=1.4.0 in /opt/conda/lib/python3.10/site-packages (from sagemaker) (4.11.3)\r\n",
      "Requirement already satisfied: packaging>=20.0 in /opt/conda/lib/python3.10/site-packages (from sagemaker) (21.3)\r\n",
      "Requirement already satisfied: pandas in /opt/conda/lib/python3.10/site-packages (from sagemaker) (1.4.4)\r\n",
      "Requirement already satisfied: pathos in /opt/conda/lib/python3.10/site-packages (from sagemaker) (0.3.1)\r\n",
      "Requirement already satisfied: schema in /opt/conda/lib/python3.10/site-packages (from sagemaker) (0.7.5)\r\n",
      "Requirement already satisfied: PyYAML~=6.0 in /opt/conda/lib/python3.10/site-packages/PyYAML-6.0-py3.10-linux-x86_64.egg (from sagemaker) (6.0)\r\n",
      "Requirement already satisfied: jsonschema in /opt/conda/lib/python3.10/site-packages (from sagemaker) (4.19.1)\r\n",
      "Requirement already satisfied: platformdirs in /opt/conda/lib/python3.10/site-packages (from sagemaker) (2.5.2)\r\n",
      "Requirement already satisfied: tblib==1.7.0 in /opt/conda/lib/python3.10/site-packages (from sagemaker) (1.7.0)\r\n",
      "Requirement already satisfied: urllib3<1.27 in /opt/conda/lib/python3.10/site-packages (from sagemaker) (1.26.18)\r\n",
      "Requirement already satisfied: uvicorn==0.22.0 in /opt/conda/lib/python3.10/site-packages (from sagemaker) (0.22.0)\r\n",
      "Requirement already satisfied: fastapi==0.95.2 in /opt/conda/lib/python3.10/site-packages (from sagemaker) (0.95.2)\r\n",
      "Requirement already satisfied: requests in /opt/conda/lib/python3.10/site-packages (from sagemaker) (2.31.0)\r\n",
      "Requirement already satisfied: docker in /opt/conda/lib/python3.10/site-packages (from sagemaker) (6.1.3)\r\n",
      "Requirement already satisfied: tqdm in /opt/conda/lib/python3.10/site-packages (from sagemaker) (4.64.1)\r\n",
      "Requirement already satisfied: psutil in /opt/conda/lib/python3.10/site-packages (from sagemaker) (5.9.0)\r\n",
      "Requirement already satisfied: pydantic!=1.7,!=1.7.1,!=1.7.2,!=1.7.3,!=1.8,!=1.8.1,<2.0.0,>=1.6.2 in /opt/conda/lib/python3.10/site-packages (from fastapi==0.95.2->sagemaker) (1.10.13)\r\n",
      "Requirement already satisfied: starlette<0.28.0,>=0.27.0 in /opt/conda/lib/python3.10/site-packages (from fastapi==0.95.2->sagemaker) (0.27.0)\r\n",
      "Requirement already satisfied: click>=7.0 in /opt/conda/lib/python3.10/site-packages (from uvicorn==0.22.0->sagemaker) (8.1.7)\r\n",
      "Requirement already satisfied: h11>=0.8 in /opt/conda/lib/python3.10/site-packages (from uvicorn==0.22.0->sagemaker) (0.14.0)\r\n",
      "Requirement already satisfied: botocore<1.35.0,>=1.34.1 in /opt/conda/lib/python3.10/site-packages (from boto3<2.0,>=1.33.3->sagemaker) (1.34.1)\r\n",
      "Requirement already satisfied: jmespath<2.0.0,>=0.7.1 in /opt/conda/lib/python3.10/site-packages (from boto3<2.0,>=1.33.3->sagemaker) (0.10.0)\r\n",
      "Requirement already satisfied: s3transfer<0.10.0,>=0.9.0 in /opt/conda/lib/python3.10/site-packages (from boto3<2.0,>=1.33.3->sagemaker) (0.9.0)\r\n",
      "Requirement already satisfied: zipp>=0.5 in /opt/conda/lib/python3.10/site-packages (from importlib-metadata<7.0,>=1.4.0->sagemaker) (3.8.0)\r\n",
      "Requirement already satisfied: pyparsing!=3.0.5,>=2.0.2 in /opt/conda/lib/python3.10/site-packages (from packaging>=20.0->sagemaker) (3.0.9)\r\n",
      "Requirement already satisfied: websocket-client>=0.32.0 in /opt/conda/lib/python3.10/site-packages (from docker->sagemaker) (0.58.0)\r\n",
      "Requirement already satisfied: charset-normalizer<4,>=2 in /opt/conda/lib/python3.10/site-packages (from requests->sagemaker) (2.0.4)\r\n",
      "Requirement already satisfied: idna<4,>=2.5 in /opt/conda/lib/python3.10/site-packages (from requests->sagemaker) (3.3)\r\n",
      "Requirement already satisfied: certifi>=2017.4.17 in /opt/conda/lib/python3.10/site-packages (from requests->sagemaker) (2023.7.22)\r\n",
      "Requirement already satisfied: six in /opt/conda/lib/python3.10/site-packages (from google-pasta->sagemaker) (1.16.0)\r\n",
      "Requirement already satisfied: jsonschema-specifications>=2023.03.6 in /opt/conda/lib/python3.10/site-packages (from jsonschema->sagemaker) (2023.7.1)\r\n",
      "Requirement already satisfied: referencing>=0.28.4 in /opt/conda/lib/python3.10/site-packages (from jsonschema->sagemaker) (0.30.2)\r\n",
      "Requirement already satisfied: rpds-py>=0.7.1 in /opt/conda/lib/python3.10/site-packages (from jsonschema->sagemaker) (0.10.6)\r\n",
      "Requirement already satisfied: python-dateutil>=2.8.1 in /opt/conda/lib/python3.10/site-packages (from pandas->sagemaker) (2.8.2)\r\n",
      "Requirement already satisfied: pytz>=2020.1 in /opt/conda/lib/python3.10/site-packages (from pandas->sagemaker) (2022.1)\r\n",
      "Requirement already satisfied: ppft>=1.7.6.7 in /opt/conda/lib/python3.10/site-packages (from pathos->sagemaker) (1.7.6.7)\r\n",
      "Requirement already satisfied: dill>=0.3.7 in /opt/conda/lib/python3.10/site-packages (from pathos->sagemaker) (0.3.7)\r\n",
      "Requirement already satisfied: pox>=0.3.3 in /opt/conda/lib/python3.10/site-packages (from pathos->sagemaker) (0.3.3)\r\n",
      "Requirement already satisfied: multiprocess>=0.70.15 in /opt/conda/lib/python3.10/site-packages (from pathos->sagemaker) (0.70.15)\r\n",
      "Requirement already satisfied: contextlib2>=0.5.5 in /opt/conda/lib/python3.10/site-packages (from schema->sagemaker) (21.6.0)\r\n",
      "Requirement already satisfied: typing-extensions>=4.2.0 in /opt/conda/lib/python3.10/site-packages (from pydantic!=1.7,!=1.7.1,!=1.7.2,!=1.7.3,!=1.8,!=1.8.1,<2.0.0,>=1.6.2->fastapi==0.95.2->sagemaker) (4.3.0)\r\n",
      "Requirement already satisfied: anyio<5,>=3.4.0 in /opt/conda/lib/python3.10/site-packages (from starlette<0.28.0,>=0.27.0->fastapi==0.95.2->sagemaker) (3.5.0)\r\n",
      "Requirement already satisfied: sniffio>=1.1 in /opt/conda/lib/python3.10/site-packages (from anyio<5,>=3.4.0->starlette<0.28.0,>=0.27.0->fastapi==0.95.2->sagemaker) (1.2.0)\r\n",
      "\u001B[33mWARNING: Running pip as the 'root' user can result in broken permissions and conflicting behaviour with the system package manager. It is recommended to use a virtual environment instead: https://pip.pypa.io/warnings/venv\u001B[0m\u001B[33m\r\n",
      "\u001B[0m\r\n",
      "\u001B[1m[\u001B[0m\u001B[34;49mnotice\u001B[0m\u001B[1;39;49m]\u001B[0m\u001B[39;49m A new release of pip is available: \u001B[0m\u001B[31;49m23.2.1\u001B[0m\u001B[39;49m -> \u001B[0m\u001B[32;49m23.3.1\u001B[0m\r\n",
      "\u001B[1m[\u001B[0m\u001B[34;49mnotice\u001B[0m\u001B[1;39;49m]\u001B[0m\u001B[39;49m To update, run: \u001B[0m\u001B[32;49mpip install --upgrade pip\u001B[0m\r\n",
      "Note: you may need to restart the kernel to use updated packages.\n",
      "Requirement already satisfied: matplotlib in /opt/conda/lib/python3.10/site-packages (3.5.2)\r\n",
      "Requirement already satisfied: cycler>=0.10 in /opt/conda/lib/python3.10/site-packages (from matplotlib) (0.11.0)\r\n",
      "Requirement already satisfied: fonttools>=4.22.0 in /opt/conda/lib/python3.10/site-packages (from matplotlib) (4.25.0)\r\n",
      "Requirement already satisfied: kiwisolver>=1.0.1 in /opt/conda/lib/python3.10/site-packages (from matplotlib) (1.4.2)\r\n",
      "Requirement already satisfied: numpy>=1.17 in /opt/conda/lib/python3.10/site-packages (from matplotlib) (1.26.0)\r\n",
      "Requirement already satisfied: packaging>=20.0 in /opt/conda/lib/python3.10/site-packages (from matplotlib) (21.3)\r\n",
      "Requirement already satisfied: pillow>=6.2.0 in /opt/conda/lib/python3.10/site-packages (from matplotlib) (10.0.1)\r\n",
      "Requirement already satisfied: pyparsing>=2.2.1 in /opt/conda/lib/python3.10/site-packages (from matplotlib) (3.0.9)\r\n",
      "Requirement already satisfied: python-dateutil>=2.7 in /opt/conda/lib/python3.10/site-packages (from matplotlib) (2.8.2)\r\n",
      "Requirement already satisfied: six>=1.5 in /opt/conda/lib/python3.10/site-packages (from python-dateutil>=2.7->matplotlib) (1.16.0)\r\n",
      "\u001B[33mWARNING: Running pip as the 'root' user can result in broken permissions and conflicting behaviour with the system package manager. It is recommended to use a virtual environment instead: https://pip.pypa.io/warnings/venv\u001B[0m\u001B[33m\r\n",
      "\u001B[0m\r\n",
      "\u001B[1m[\u001B[0m\u001B[34;49mnotice\u001B[0m\u001B[1;39;49m]\u001B[0m\u001B[39;49m A new release of pip is available: \u001B[0m\u001B[31;49m23.2.1\u001B[0m\u001B[39;49m -> \u001B[0m\u001B[32;49m23.3.1\u001B[0m\r\n",
      "\u001B[1m[\u001B[0m\u001B[34;49mnotice\u001B[0m\u001B[1;39;49m]\u001B[0m\u001B[39;49m To update, run: \u001B[0m\u001B[32;49mpip install --upgrade pip\u001B[0m\r\n",
      "Note: you may need to restart the kernel to use updated packages.\n"
     ]
    }
   ],
   "source": [
    "%pip install -U sagemaker\n",
    "%pip install matplotlib"
   ]
  },
  {
   "cell_type": "code",
   "execution_count": 18,
   "outputs": [
    {
     "name": "stdout",
     "output_type": "stream",
     "text": [
      "Requirement already satisfied: sagemaker-ssh-helper in /opt/conda/lib/python3.10/site-packages (2.2.0.dev2)\r\n",
      "Requirement already satisfied: sagemaker>=2.145.0 in /opt/conda/lib/python3.10/site-packages (from sagemaker-ssh-helper) (2.200.1)\r\n",
      "Requirement already satisfied: psutil in /opt/conda/lib/python3.10/site-packages (from sagemaker-ssh-helper) (5.9.0)\r\n",
      "Requirement already satisfied: attrs<24,>=23.1.0 in /opt/conda/lib/python3.10/site-packages (from sagemaker>=2.145.0->sagemaker-ssh-helper) (23.1.0)\r\n",
      "Requirement already satisfied: boto3<2.0,>=1.33.3 in /opt/conda/lib/python3.10/site-packages (from sagemaker>=2.145.0->sagemaker-ssh-helper) (1.34.1)\r\n",
      "Requirement already satisfied: cloudpickle==2.2.1 in /opt/conda/lib/python3.10/site-packages (from sagemaker>=2.145.0->sagemaker-ssh-helper) (2.2.1)\r\n",
      "Requirement already satisfied: google-pasta in /opt/conda/lib/python3.10/site-packages (from sagemaker>=2.145.0->sagemaker-ssh-helper) (0.2.0)\r\n",
      "Requirement already satisfied: numpy<2.0,>=1.9.0 in /opt/conda/lib/python3.10/site-packages (from sagemaker>=2.145.0->sagemaker-ssh-helper) (1.26.0)\r\n",
      "Requirement already satisfied: protobuf<5.0,>=3.12 in /opt/conda/lib/python3.10/site-packages (from sagemaker>=2.145.0->sagemaker-ssh-helper) (4.24.4)\r\n",
      "Requirement already satisfied: smdebug-rulesconfig==1.0.1 in /opt/conda/lib/python3.10/site-packages (from sagemaker>=2.145.0->sagemaker-ssh-helper) (1.0.1)\r\n",
      "Requirement already satisfied: importlib-metadata<7.0,>=1.4.0 in /opt/conda/lib/python3.10/site-packages (from sagemaker>=2.145.0->sagemaker-ssh-helper) (4.11.3)\r\n",
      "Requirement already satisfied: packaging>=20.0 in /opt/conda/lib/python3.10/site-packages (from sagemaker>=2.145.0->sagemaker-ssh-helper) (21.3)\r\n",
      "Requirement already satisfied: pandas in /opt/conda/lib/python3.10/site-packages (from sagemaker>=2.145.0->sagemaker-ssh-helper) (1.4.4)\r\n",
      "Requirement already satisfied: pathos in /opt/conda/lib/python3.10/site-packages (from sagemaker>=2.145.0->sagemaker-ssh-helper) (0.3.1)\r\n",
      "Requirement already satisfied: schema in /opt/conda/lib/python3.10/site-packages (from sagemaker>=2.145.0->sagemaker-ssh-helper) (0.7.5)\r\n",
      "Requirement already satisfied: PyYAML~=6.0 in /opt/conda/lib/python3.10/site-packages/PyYAML-6.0-py3.10-linux-x86_64.egg (from sagemaker>=2.145.0->sagemaker-ssh-helper) (6.0)\r\n",
      "Requirement already satisfied: jsonschema in /opt/conda/lib/python3.10/site-packages (from sagemaker>=2.145.0->sagemaker-ssh-helper) (4.19.1)\r\n",
      "Requirement already satisfied: platformdirs in /opt/conda/lib/python3.10/site-packages (from sagemaker>=2.145.0->sagemaker-ssh-helper) (2.5.2)\r\n",
      "Requirement already satisfied: tblib==1.7.0 in /opt/conda/lib/python3.10/site-packages (from sagemaker>=2.145.0->sagemaker-ssh-helper) (1.7.0)\r\n",
      "Requirement already satisfied: urllib3<1.27 in /opt/conda/lib/python3.10/site-packages (from sagemaker>=2.145.0->sagemaker-ssh-helper) (1.26.18)\r\n",
      "Requirement already satisfied: uvicorn==0.22.0 in /opt/conda/lib/python3.10/site-packages (from sagemaker>=2.145.0->sagemaker-ssh-helper) (0.22.0)\r\n",
      "Requirement already satisfied: fastapi==0.95.2 in /opt/conda/lib/python3.10/site-packages (from sagemaker>=2.145.0->sagemaker-ssh-helper) (0.95.2)\r\n",
      "Requirement already satisfied: requests in /opt/conda/lib/python3.10/site-packages (from sagemaker>=2.145.0->sagemaker-ssh-helper) (2.31.0)\r\n",
      "Requirement already satisfied: docker in /opt/conda/lib/python3.10/site-packages (from sagemaker>=2.145.0->sagemaker-ssh-helper) (6.1.3)\r\n",
      "Requirement already satisfied: tqdm in /opt/conda/lib/python3.10/site-packages (from sagemaker>=2.145.0->sagemaker-ssh-helper) (4.64.1)\r\n",
      "Requirement already satisfied: pydantic!=1.7,!=1.7.1,!=1.7.2,!=1.7.3,!=1.8,!=1.8.1,<2.0.0,>=1.6.2 in /opt/conda/lib/python3.10/site-packages (from fastapi==0.95.2->sagemaker>=2.145.0->sagemaker-ssh-helper) (1.10.13)\r\n",
      "Requirement already satisfied: starlette<0.28.0,>=0.27.0 in /opt/conda/lib/python3.10/site-packages (from fastapi==0.95.2->sagemaker>=2.145.0->sagemaker-ssh-helper) (0.27.0)\r\n",
      "Requirement already satisfied: click>=7.0 in /opt/conda/lib/python3.10/site-packages (from uvicorn==0.22.0->sagemaker>=2.145.0->sagemaker-ssh-helper) (8.1.7)\r\n",
      "Requirement already satisfied: h11>=0.8 in /opt/conda/lib/python3.10/site-packages (from uvicorn==0.22.0->sagemaker>=2.145.0->sagemaker-ssh-helper) (0.14.0)\r\n",
      "Requirement already satisfied: botocore<1.35.0,>=1.34.1 in /opt/conda/lib/python3.10/site-packages (from boto3<2.0,>=1.33.3->sagemaker>=2.145.0->sagemaker-ssh-helper) (1.34.1)\r\n",
      "Requirement already satisfied: jmespath<2.0.0,>=0.7.1 in /opt/conda/lib/python3.10/site-packages (from boto3<2.0,>=1.33.3->sagemaker>=2.145.0->sagemaker-ssh-helper) (0.10.0)\r\n",
      "Requirement already satisfied: s3transfer<0.10.0,>=0.9.0 in /opt/conda/lib/python3.10/site-packages (from boto3<2.0,>=1.33.3->sagemaker>=2.145.0->sagemaker-ssh-helper) (0.9.0)\r\n",
      "Requirement already satisfied: zipp>=0.5 in /opt/conda/lib/python3.10/site-packages (from importlib-metadata<7.0,>=1.4.0->sagemaker>=2.145.0->sagemaker-ssh-helper) (3.8.0)\r\n",
      "Requirement already satisfied: pyparsing!=3.0.5,>=2.0.2 in /opt/conda/lib/python3.10/site-packages (from packaging>=20.0->sagemaker>=2.145.0->sagemaker-ssh-helper) (3.0.9)\r\n",
      "Requirement already satisfied: websocket-client>=0.32.0 in /opt/conda/lib/python3.10/site-packages (from docker->sagemaker>=2.145.0->sagemaker-ssh-helper) (0.58.0)\r\n",
      "Requirement already satisfied: charset-normalizer<4,>=2 in /opt/conda/lib/python3.10/site-packages (from requests->sagemaker>=2.145.0->sagemaker-ssh-helper) (2.0.4)\r\n",
      "Requirement already satisfied: idna<4,>=2.5 in /opt/conda/lib/python3.10/site-packages (from requests->sagemaker>=2.145.0->sagemaker-ssh-helper) (3.3)\r\n",
      "Requirement already satisfied: certifi>=2017.4.17 in /opt/conda/lib/python3.10/site-packages (from requests->sagemaker>=2.145.0->sagemaker-ssh-helper) (2023.7.22)\r\n",
      "Requirement already satisfied: six in /opt/conda/lib/python3.10/site-packages (from google-pasta->sagemaker>=2.145.0->sagemaker-ssh-helper) (1.16.0)\r\n",
      "Requirement already satisfied: jsonschema-specifications>=2023.03.6 in /opt/conda/lib/python3.10/site-packages (from jsonschema->sagemaker>=2.145.0->sagemaker-ssh-helper) (2023.7.1)\r\n",
      "Requirement already satisfied: referencing>=0.28.4 in /opt/conda/lib/python3.10/site-packages (from jsonschema->sagemaker>=2.145.0->sagemaker-ssh-helper) (0.30.2)\r\n",
      "Requirement already satisfied: rpds-py>=0.7.1 in /opt/conda/lib/python3.10/site-packages (from jsonschema->sagemaker>=2.145.0->sagemaker-ssh-helper) (0.10.6)\r\n",
      "Requirement already satisfied: python-dateutil>=2.8.1 in /opt/conda/lib/python3.10/site-packages (from pandas->sagemaker>=2.145.0->sagemaker-ssh-helper) (2.8.2)\r\n",
      "Requirement already satisfied: pytz>=2020.1 in /opt/conda/lib/python3.10/site-packages (from pandas->sagemaker>=2.145.0->sagemaker-ssh-helper) (2022.1)\r\n",
      "Requirement already satisfied: ppft>=1.7.6.7 in /opt/conda/lib/python3.10/site-packages (from pathos->sagemaker>=2.145.0->sagemaker-ssh-helper) (1.7.6.7)\r\n",
      "Requirement already satisfied: dill>=0.3.7 in /opt/conda/lib/python3.10/site-packages (from pathos->sagemaker>=2.145.0->sagemaker-ssh-helper) (0.3.7)\r\n",
      "Requirement already satisfied: pox>=0.3.3 in /opt/conda/lib/python3.10/site-packages (from pathos->sagemaker>=2.145.0->sagemaker-ssh-helper) (0.3.3)\r\n",
      "Requirement already satisfied: multiprocess>=0.70.15 in /opt/conda/lib/python3.10/site-packages (from pathos->sagemaker>=2.145.0->sagemaker-ssh-helper) (0.70.15)\r\n",
      "Requirement already satisfied: contextlib2>=0.5.5 in /opt/conda/lib/python3.10/site-packages (from schema->sagemaker>=2.145.0->sagemaker-ssh-helper) (21.6.0)\r\n",
      "Requirement already satisfied: typing-extensions>=4.2.0 in /opt/conda/lib/python3.10/site-packages (from pydantic!=1.7,!=1.7.1,!=1.7.2,!=1.7.3,!=1.8,!=1.8.1,<2.0.0,>=1.6.2->fastapi==0.95.2->sagemaker>=2.145.0->sagemaker-ssh-helper) (4.3.0)\r\n",
      "Requirement already satisfied: anyio<5,>=3.4.0 in /opt/conda/lib/python3.10/site-packages (from starlette<0.28.0,>=0.27.0->fastapi==0.95.2->sagemaker>=2.145.0->sagemaker-ssh-helper) (3.5.0)\r\n",
      "Requirement already satisfied: sniffio>=1.1 in /opt/conda/lib/python3.10/site-packages (from anyio<5,>=3.4.0->starlette<0.28.0,>=0.27.0->fastapi==0.95.2->sagemaker>=2.145.0->sagemaker-ssh-helper) (1.2.0)\r\n",
      "\u001B[33mWARNING: Running pip as the 'root' user can result in broken permissions and conflicting behaviour with the system package manager. It is recommended to use a virtual environment instead: https://pip.pypa.io/warnings/venv\u001B[0m\u001B[33m\r\n",
      "\u001B[0m\r\n",
      "\u001B[1m[\u001B[0m\u001B[34;49mnotice\u001B[0m\u001B[1;39;49m]\u001B[0m\u001B[39;49m A new release of pip is available: \u001B[0m\u001B[31;49m23.2.1\u001B[0m\u001B[39;49m -> \u001B[0m\u001B[32;49m23.3.1\u001B[0m\r\n",
      "\u001B[1m[\u001B[0m\u001B[34;49mnotice\u001B[0m\u001B[1;39;49m]\u001B[0m\u001B[39;49m To update, run: \u001B[0m\u001B[32;49mpip install --upgrade pip\u001B[0m\r\n",
      "Note: you may need to restart the kernel to use updated packages.\n"
     ]
    }
   ],
   "source": [
    "# See https://github.com/aws-samples/sagemaker-ssh-helper\n",
    "%pip install sagemaker-ssh-helper"
   ],
   "metadata": {
    "collapsed": false,
    "ExecuteTime": {
     "end_time": "2023-12-15T15:39:04.740218Z",
     "start_time": "2023-12-15T15:38:59.316965Z"
    }
   },
   "id": "ef2b3bd45ea52ca"
  },
  {
   "cell_type": "markdown",
   "id": "9d0dfa12-a2e7-479b-8c28-1fd962668e5f",
   "metadata": {},
   "source": [
    "## 2) Initialize session"
   ]
  },
  {
   "cell_type": "code",
   "execution_count": 19,
   "id": "a869de2b-9b9b-4942-8ce6-ce1e51f2580e",
   "metadata": {
    "tags": [],
    "ExecuteTime": {
     "end_time": "2023-12-15T15:39:08.926190Z",
     "start_time": "2023-12-15T15:39:04.771994Z"
    }
   },
   "outputs": [
    {
     "name": "stdout",
     "output_type": "stream",
     "text": [
      "2.200.1\n",
      "sagemaker role arn: arn:aws:iam::590694872974:role/Admin\n",
      "sagemaker bucket: sagemaker-us-east-2-590694872974\n",
      "sagemaker session region: us-east-2\n"
     ]
    }
   ],
   "source": [
    "import os\n",
    "os.environ['AWS_DEFAULT_REGION'] = 'us-east-2'\n",
    "\n",
    "import sagemaker\n",
    "\n",
    "print(sagemaker.__version__)\n",
    "if not sagemaker.__version__ >= \"2.146.0\": print(\"You need to upgrade or restart the kernel if you already upgraded\")\n",
    "\n",
    "sess = sagemaker.session.Session()\n",
    "role = sagemaker.get_execution_role()\n",
    "\n",
    "bucket = sess.default_bucket()\n",
    "region = sess.boto_region_name\n",
    "\n",
    "os.makedirs(\"src\", exist_ok=True)\n",
    "\n",
    "print(f\"sagemaker role arn: {role}\")\n",
    "print(f\"sagemaker bucket: {bucket}\")\n",
    "print(f\"sagemaker session region: {region}\")"
   ]
  },
  {
   "cell_type": "markdown",
   "id": "c73ad087-6f22-4513-9550-c23911026de7",
   "metadata": {},
   "source": [
    "## 3) Create artifacts to compile & run the model"
   ]
  },
  {
   "cell_type": "markdown",
   "id": "aeb6fd17-90b6-4734-913e-c52695384d51",
   "metadata": {
    "ExecuteTime": {
     "end_time": "2023-11-29T14:15:45.398156Z",
     "start_time": "2023-11-29T14:15:45.369888Z"
    }
   },
   "source": [
    "### 3.1) Dependencies file"
   ]
  },
  {
   "cell_type": "code",
   "execution_count": 20,
   "id": "e01a1e5d-76d3-4940-aeef-09feede76d99",
   "metadata": {
    "tags": [],
    "ExecuteTime": {
     "end_time": "2023-12-15T15:39:09.776838Z",
     "start_time": "2023-12-15T15:39:08.929929Z"
    }
   },
   "outputs": [
    {
     "name": "stdout",
     "output_type": "stream",
     "text": [
      "evaluate==0.4.0\r\n",
      "diffusers==0.21.4\r\n",
      "accelerate==0.23.0\r\n",
      "scikit-learn==1.3.0\r\n",
      "transformers==4.33.1\r\n",
      "optimum-neuron==0.0.12\r\n",
      "sagemaker-ssh-helper\r\n"
     ]
    }
   ],
   "source": [
    "!pygmentize src/requirements.txt"
   ]
  },
  {
   "cell_type": "markdown",
   "id": "a81eff2d-31a7-49fd-89ab-23a800bb0814",
   "metadata": {
    "tags": []
   },
   "source": [
    "### 3.2) Python script for compiling and deploying the model"
   ]
  },
  {
   "cell_type": "markdown",
   "id": "5f285bd5-3b17-47f9-96d0-b38deb5c3311",
   "metadata": {
    "ExecuteTime": {
     "end_time": "2023-11-29T14:16:04.098067Z",
     "start_time": "2023-11-29T14:16:04.074059Z"
    }
   },
   "source": [
    "This script will download model weights from HF, compile each module to inf2 and save the compiled artifacts to S3\n",
    "\n",
    "The envvar **NEURON_RT_NUM_CORES** controls how many NeuronCores are allocated per process. SageMaker can launch multiple processes in just one Endpoint. It means you can increase throughput of your endpoint by deploying your model to a larger instance (inf2.24xlarge or inf2.48xlarge). On an inf2.24xlarge, for instance, SageMaker can deploy 6 copies of the same model in parallel to serve 6 simultaneous clients. This is what we'll do in the next steps."
   ]
  },
  {
   "cell_type": "code",
   "execution_count": 21,
   "id": "3065a15a-1a24-4248-b0aa-1e3031000eb7",
   "metadata": {
    "tags": [],
    "ExecuteTime": {
     "end_time": "2023-12-15T15:39:10.680514Z",
     "start_time": "2023-12-15T15:39:09.782772Z"
    }
   },
   "outputs": [
    {
     "name": "stdout",
     "output_type": "stream",
     "text": [
      "\u001B[37m# Copyright Amazon.com, Inc. or its affiliates. All Rights Reserved.\u001B[39;49;00m\u001B[37m\u001B[39;49;00m\r\n",
      "\u001B[37m# SPDX-License-Identifier: MIT-0\u001B[39;49;00m\u001B[37m\u001B[39;49;00m\r\n",
      "\u001B[37m\u001B[39;49;00m\r\n",
      "\u001B[34mimport\u001B[39;49;00m \u001B[04m\u001B[36mos\u001B[39;49;00m\u001B[37m\u001B[39;49;00m\r\n",
      "os.environ[\u001B[33m'\u001B[39;49;00m\u001B[33mNEURON_RT_NUM_CORES\u001B[39;49;00m\u001B[33m'\u001B[39;49;00m] = \u001B[33m'\u001B[39;49;00m\u001B[33m2\u001B[39;49;00m\u001B[33m'\u001B[39;49;00m\u001B[37m\u001B[39;49;00m\r\n",
      "\u001B[34mimport\u001B[39;49;00m \u001B[04m\u001B[36mio\u001B[39;49;00m\u001B[37m\u001B[39;49;00m\r\n",
      "\u001B[34mimport\u001B[39;49;00m \u001B[04m\u001B[36mjson\u001B[39;49;00m\u001B[37m\u001B[39;49;00m\r\n",
      "\u001B[34mimport\u001B[39;49;00m \u001B[04m\u001B[36mtime\u001B[39;49;00m\u001B[37m\u001B[39;49;00m\r\n",
      "\u001B[34mimport\u001B[39;49;00m \u001B[04m\u001B[36mshutil\u001B[39;49;00m\u001B[37m\u001B[39;49;00m\r\n",
      "\u001B[34mimport\u001B[39;49;00m \u001B[04m\u001B[36margparse\u001B[39;49;00m\u001B[37m\u001B[39;49;00m\r\n",
      "\u001B[34mfrom\u001B[39;49;00m \u001B[04m\u001B[36mfilelock\u001B[39;49;00m \u001B[34mimport\u001B[39;49;00m FileLock\u001B[37m\u001B[39;49;00m\r\n",
      "\u001B[34mfrom\u001B[39;49;00m \u001B[04m\u001B[36moptimum\u001B[39;49;00m\u001B[04m\u001B[36m.\u001B[39;49;00m\u001B[04m\u001B[36mneuron\u001B[39;49;00m \u001B[34mimport\u001B[39;49;00m NeuronStableDiffusionPipeline\u001B[37m\u001B[39;49;00m\r\n",
      "\u001B[37m\u001B[39;49;00m\r\n",
      "lock_path = \u001B[33m'\u001B[39;49;00m\u001B[33m/tmp/new_packages.lock\u001B[39;49;00m\u001B[33m'\u001B[39;49;00m\u001B[37m\u001B[39;49;00m\r\n",
      "lock = FileLock(lock_path)\u001B[37m\u001B[39;49;00m\r\n",
      "\u001B[37m\u001B[39;49;00m\r\n",
      "\u001B[37m\u001B[39;49;00m\r\n",
      "\u001B[34mdef\u001B[39;49;00m \u001B[32mmodel_fn\u001B[39;49;00m(model_dir, context=\u001B[34mNone\u001B[39;49;00m):\u001B[37m\u001B[39;49;00m\r\n",
      "    \u001B[36mprint\u001B[39;49;00m(\u001B[33m\"\u001B[39;49;00m\u001B[33mWaiting for the lock acquire...\u001B[39;49;00m\u001B[33m\"\u001B[39;49;00m)    \u001B[37m\u001B[39;49;00m\r\n",
      "    lock.acquire()\u001B[37m\u001B[39;49;00m\r\n",
      "    \u001B[36mprint\u001B[39;49;00m(\u001B[33m\"\u001B[39;49;00m\u001B[33mLoading model...\u001B[39;49;00m\u001B[33m\"\u001B[39;49;00m)\u001B[37m\u001B[39;49;00m\r\n",
      "    t = time.time()    \u001B[37m\u001B[39;49;00m\r\n",
      "    model = NeuronStableDiffusionPipeline.from_pretrained(model_dir,  device_ids=[\u001B[34m0\u001B[39;49;00m, \u001B[34m1\u001B[39;49;00m])\u001B[37m\u001B[39;49;00m\r\n",
      "    \u001B[36mprint\u001B[39;49;00m(\u001B[33mf\u001B[39;49;00m\u001B[33m\"\u001B[39;49;00m\u001B[33mModel loaded. Elapsed: \u001B[39;49;00m\u001B[33m{\u001B[39;49;00mtime.time()-t\u001B[33m}\u001B[39;49;00m\u001B[33ms\u001B[39;49;00m\u001B[33m\"\u001B[39;49;00m)\u001B[37m\u001B[39;49;00m\r\n",
      "    lock.release()\u001B[37m\u001B[39;49;00m\r\n",
      "    \u001B[34mreturn\u001B[39;49;00m model\u001B[37m\u001B[39;49;00m\r\n",
      "\u001B[37m\u001B[39;49;00m\r\n",
      "    \u001B[37m\u001B[39;49;00m\r\n",
      "\u001B[34mdef\u001B[39;49;00m \u001B[32minput_fn\u001B[39;49;00m(request_body, request_content_type, context=\u001B[34mNone\u001B[39;49;00m):\u001B[37m\u001B[39;49;00m\r\n",
      "    \u001B[34mif\u001B[39;49;00m request_content_type == \u001B[33m'\u001B[39;49;00m\u001B[33mapplication/json\u001B[39;49;00m\u001B[33m'\u001B[39;49;00m:\u001B[37m\u001B[39;49;00m\r\n",
      "        req = json.loads(request_body)\u001B[37m\u001B[39;49;00m\r\n",
      "        prompt = req.get(\u001B[33m'\u001B[39;49;00m\u001B[33mprompt\u001B[39;49;00m\u001B[33m'\u001B[39;49;00m)\u001B[37m\u001B[39;49;00m\r\n",
      "        num_inference_steps = req.get(\u001B[33m'\u001B[39;49;00m\u001B[33mnum_inference_steps\u001B[39;49;00m\u001B[33m'\u001B[39;49;00m, \u001B[34m50\u001B[39;49;00m)\u001B[37m\u001B[39;49;00m\r\n",
      "        guidance_scale = req.get(\u001B[33m'\u001B[39;49;00m\u001B[33mguidance_scale\u001B[39;49;00m\u001B[33m'\u001B[39;49;00m, \u001B[34m7.5\u001B[39;49;00m)\u001B[37m\u001B[39;49;00m\r\n",
      "        \u001B[34mif\u001B[39;49;00m prompt \u001B[35mis\u001B[39;49;00m \u001B[34mNone\u001B[39;49;00m \u001B[35mor\u001B[39;49;00m \u001B[36mtype\u001B[39;49;00m(prompt) != \u001B[36mstr\u001B[39;49;00m \u001B[35mor\u001B[39;49;00m \u001B[36mlen\u001B[39;49;00m(prompt) < \u001B[34m5\u001B[39;49;00m:\u001B[37m\u001B[39;49;00m\r\n",
      "            \u001B[34mraise\u001B[39;49;00m(\u001B[33m\"\u001B[39;49;00m\u001B[33mInvalid prompt. It needs to be a string > 5\u001B[39;49;00m\u001B[33m\"\u001B[39;49;00m)\u001B[37m\u001B[39;49;00m\r\n",
      "        \u001B[34mif\u001B[39;49;00m \u001B[36mtype\u001B[39;49;00m(num_inference_steps) != \u001B[36mint\u001B[39;49;00m:\u001B[37m\u001B[39;49;00m\r\n",
      "            \u001B[34mraise\u001B[39;49;00m(\u001B[33m\"\u001B[39;49;00m\u001B[33mInvalid num_inference_steps. Expected int. default = 50\u001B[39;49;00m\u001B[33m\"\u001B[39;49;00m)\u001B[37m\u001B[39;49;00m\r\n",
      "        \u001B[34mif\u001B[39;49;00m \u001B[36mtype\u001B[39;49;00m(guidance_scale) != \u001B[36mfloat\u001B[39;49;00m:\u001B[37m\u001B[39;49;00m\r\n",
      "            \u001B[34mraise\u001B[39;49;00m(\u001B[33m\"\u001B[39;49;00m\u001B[33mInvalid guidance_scale. Expected float. default = 7.5\u001B[39;49;00m\u001B[33m\"\u001B[39;49;00m)\u001B[37m\u001B[39;49;00m\r\n",
      "        \u001B[34mreturn\u001B[39;49;00m prompt, num_inference_steps, guidance_scale\u001B[37m\u001B[39;49;00m\r\n",
      "    \u001B[34melse\u001B[39;49;00m:\u001B[37m\u001B[39;49;00m\r\n",
      "        \u001B[34mraise\u001B[39;49;00m \u001B[36mException\u001B[39;49;00m(\u001B[33mf\u001B[39;49;00m\u001B[33m\"\u001B[39;49;00m\u001B[33mUnsupported mime type: \u001B[39;49;00m\u001B[33m{\u001B[39;49;00mrequest_content_type\u001B[33m}\u001B[39;49;00m\u001B[33m. Supported: application/json\u001B[39;49;00m\u001B[33m\"\u001B[39;49;00m)\u001B[37m\u001B[39;49;00m\r\n",
      "\u001B[37m\u001B[39;49;00m\r\n",
      "\u001B[37m\u001B[39;49;00m\r\n",
      "\u001B[34mdef\u001B[39;49;00m \u001B[32mpredict_fn\u001B[39;49;00m(input_req, model, context=\u001B[34mNone\u001B[39;49;00m):\u001B[37m\u001B[39;49;00m\r\n",
      "    prompt, num_inference_steps, guidance_scale = input_req\u001B[37m\u001B[39;49;00m\r\n",
      "    \u001B[34mreturn\u001B[39;49;00m model(\u001B[37m\u001B[39;49;00m\r\n",
      "        prompt, num_inference_steps=num_inference_steps, guidance_scale=guidance_scale\u001B[37m\u001B[39;49;00m\r\n",
      "    ).images[\u001B[34m0\u001B[39;49;00m]\u001B[37m\u001B[39;49;00m\r\n",
      "\u001B[37m\u001B[39;49;00m\r\n",
      "\u001B[37m\u001B[39;49;00m\r\n",
      "\u001B[34mdef\u001B[39;49;00m \u001B[32moutput_fn\u001B[39;49;00m(image, accept, context=\u001B[34mNone\u001B[39;49;00m):\u001B[37m\u001B[39;49;00m\r\n",
      "    \u001B[34mif\u001B[39;49;00m accept != \u001B[33m'\u001B[39;49;00m\u001B[33mimage/jpeg\u001B[39;49;00m\u001B[33m'\u001B[39;49;00m:\u001B[37m\u001B[39;49;00m\r\n",
      "        \u001B[34mraise\u001B[39;49;00m \u001B[36mException\u001B[39;49;00m(\u001B[33mf\u001B[39;49;00m\u001B[33m'\u001B[39;49;00m\u001B[33mInvalid data type. Expected image/jpeg, got \u001B[39;49;00m\u001B[33m{\u001B[39;49;00maccept\u001B[33m}\u001B[39;49;00m\u001B[33m'\u001B[39;49;00m)\u001B[37m\u001B[39;49;00m\r\n",
      "\u001B[37m\u001B[39;49;00m\r\n",
      "    buffer = io.BytesIO()\u001B[37m\u001B[39;49;00m\r\n",
      "    image.save(buffer, \u001B[33m'\u001B[39;49;00m\u001B[33mjpeg\u001B[39;49;00m\u001B[33m'\u001B[39;49;00m, icc_profile=image.info.get(\u001B[33m'\u001B[39;49;00m\u001B[33micc_profile\u001B[39;49;00m\u001B[33m'\u001B[39;49;00m))\u001B[37m\u001B[39;49;00m\r\n",
      "    buffer.seek(\u001B[34m0\u001B[39;49;00m)\u001B[37m\u001B[39;49;00m\r\n",
      "    \u001B[34mreturn\u001B[39;49;00m buffer.read()\u001B[37m\u001B[39;49;00m\r\n",
      "\u001B[37m\u001B[39;49;00m\r\n",
      "\u001B[37m\u001B[39;49;00m\r\n",
      "\u001B[34mif\u001B[39;49;00m \u001B[31m__name__\u001B[39;49;00m == \u001B[33m'\u001B[39;49;00m\u001B[33m__main__\u001B[39;49;00m\u001B[33m'\u001B[39;49;00m:\u001B[37m\u001B[39;49;00m\r\n",
      "    parser = argparse.ArgumentParser()\u001B[37m\u001B[39;49;00m\r\n",
      "\u001B[37m\u001B[39;49;00m\r\n",
      "    \u001B[37m# hyperparameters sent by the client are passed as command-line arguments to the script.    \u001B[39;49;00m\u001B[37m\u001B[39;49;00m\r\n",
      "    parser.add_argument(\u001B[33m\"\u001B[39;49;00m\u001B[33m--model_id\u001B[39;49;00m\u001B[33m\"\u001B[39;49;00m, \u001B[36mtype\u001B[39;49;00m=\u001B[36mstr\u001B[39;49;00m, default=\u001B[33m\"\u001B[39;49;00m\u001B[33mstabilityai/stable-diffusion-2-1-base\u001B[39;49;00m\u001B[33m\"\u001B[39;49;00m)\u001B[37m\u001B[39;49;00m\r\n",
      "    parser.add_argument(\u001B[33m\"\u001B[39;49;00m\u001B[33m--batch_size\u001B[39;49;00m\u001B[33m\"\u001B[39;49;00m, \u001B[36mtype\u001B[39;49;00m=\u001B[36mint\u001B[39;49;00m, default=\u001B[34m1\u001B[39;49;00m)\u001B[37m\u001B[39;49;00m\r\n",
      "    parser.add_argument(\u001B[33m\"\u001B[39;49;00m\u001B[33m--height\u001B[39;49;00m\u001B[33m\"\u001B[39;49;00m, \u001B[36mtype\u001B[39;49;00m=\u001B[36mint\u001B[39;49;00m, default=\u001B[34m512\u001B[39;49;00m)\u001B[37m\u001B[39;49;00m\r\n",
      "    parser.add_argument(\u001B[33m\"\u001B[39;49;00m\u001B[33m--width\u001B[39;49;00m\u001B[33m\"\u001B[39;49;00m, \u001B[36mtype\u001B[39;49;00m=\u001B[36mint\u001B[39;49;00m, default=\u001B[34m512\u001B[39;49;00m)\u001B[37m\u001B[39;49;00m\r\n",
      "    parser.add_argument(\u001B[33m\"\u001B[39;49;00m\u001B[33m--auto_cast\u001B[39;49;00m\u001B[33m\"\u001B[39;49;00m, \u001B[36mtype\u001B[39;49;00m=\u001B[36mstr\u001B[39;49;00m, default=\u001B[33m\"\u001B[39;49;00m\u001B[33mmatmul\u001B[39;49;00m\u001B[33m\"\u001B[39;49;00m)\u001B[37m\u001B[39;49;00m\r\n",
      "    parser.add_argument(\u001B[33m\"\u001B[39;49;00m\u001B[33m--auto_cast_type\u001B[39;49;00m\u001B[33m\"\u001B[39;49;00m, \u001B[36mtype\u001B[39;49;00m=\u001B[36mstr\u001B[39;49;00m, default=\u001B[33m\"\u001B[39;49;00m\u001B[33mbf16\u001B[39;49;00m\u001B[33m\"\u001B[39;49;00m)\u001B[37m\u001B[39;49;00m\r\n",
      "\u001B[37m\u001B[39;49;00m\r\n",
      "    parser.add_argument(\u001B[33m\"\u001B[39;49;00m\u001B[33m--model_dir\u001B[39;49;00m\u001B[33m\"\u001B[39;49;00m, \u001B[36mtype\u001B[39;49;00m=\u001B[36mstr\u001B[39;49;00m, default=os.environ[\u001B[33m\"\u001B[39;49;00m\u001B[33mSM_MODEL_DIR\u001B[39;49;00m\u001B[33m\"\u001B[39;49;00m])\u001B[37m\u001B[39;49;00m\r\n",
      "    \u001B[37m\u001B[39;49;00m\r\n",
      "    args, _ = parser.parse_known_args()\u001B[37m\u001B[39;49;00m\r\n",
      "\u001B[37m\u001B[39;49;00m\r\n",
      "    model_id = args.model_id\u001B[37m\u001B[39;49;00m\r\n",
      "    compiler_args = {\u001B[33m\"\u001B[39;49;00m\u001B[33mauto_cast\u001B[39;49;00m\u001B[33m\"\u001B[39;49;00m: args.auto_cast, \u001B[33m\"\u001B[39;49;00m\u001B[33mauto_cast_type\u001B[39;49;00m\u001B[33m\"\u001B[39;49;00m: args.auto_cast_type}\u001B[37m\u001B[39;49;00m\r\n",
      "    input_shapes = {\u001B[33m\"\u001B[39;49;00m\u001B[33mbatch_size\u001B[39;49;00m\u001B[33m\"\u001B[39;49;00m: args.batch_size, \u001B[33m\"\u001B[39;49;00m\u001B[33mheight\u001B[39;49;00m\u001B[33m\"\u001B[39;49;00m: args.height, \u001B[33m\"\u001B[39;49;00m\u001B[33mwidth\u001B[39;49;00m\u001B[33m\"\u001B[39;49;00m: args.width}\u001B[37m\u001B[39;49;00m\r\n",
      "\u001B[37m\u001B[39;49;00m\r\n",
      "    \u001B[36mprint\u001B[39;49;00m(\u001B[33m\"\u001B[39;49;00m\u001B[33mCompiling model...\u001B[39;49;00m\u001B[33m\"\u001B[39;49;00m)    \u001B[37m\u001B[39;49;00m\r\n",
      "    t = time.time()\u001B[37m\u001B[39;49;00m\r\n",
      "    stable_diffusion = NeuronStableDiffusionPipeline.from_pretrained(\u001B[37m\u001B[39;49;00m\r\n",
      "        model_id, export=\u001B[34mTrue\u001B[39;49;00m, **compiler_args, **input_shapes\u001B[37m\u001B[39;49;00m\r\n",
      "    )\u001B[37m\u001B[39;49;00m\r\n",
      "    \u001B[36mprint\u001B[39;49;00m(\u001B[33mf\u001B[39;49;00m\u001B[33m\"\u001B[39;49;00m\u001B[33mDone. Elapsed time: \u001B[39;49;00m\u001B[33m{\u001B[39;49;00m(time.time()-t)\u001B[37m \u001B[39;49;00m*\u001B[37m \u001B[39;49;00m\u001B[34m1000\u001B[39;49;00m\u001B[33m}\u001B[39;49;00m\u001B[33ms\u001B[39;49;00m\u001B[33m\"\u001B[39;49;00m)\u001B[37m\u001B[39;49;00m\r\n",
      "    \u001B[36mprint\u001B[39;49;00m(\u001B[33m\"\u001B[39;49;00m\u001B[33mSaving model...\u001B[39;49;00m\u001B[33m\"\u001B[39;49;00m)\u001B[37m\u001B[39;49;00m\r\n",
      "    t = time.time()\u001B[37m\u001B[39;49;00m\r\n",
      "    stable_diffusion.save_pretrained(args.model_dir)\u001B[37m\u001B[39;49;00m\r\n",
      "    \u001B[36mprint\u001B[39;49;00m(\u001B[33mf\u001B[39;49;00m\u001B[33m\"\u001B[39;49;00m\u001B[33mDone. Elapsed time: \u001B[39;49;00m\u001B[33m{\u001B[39;49;00m(time.time()-t)\u001B[37m \u001B[39;49;00m*\u001B[37m \u001B[39;49;00m\u001B[34m1000\u001B[39;49;00m\u001B[33m}\u001B[39;49;00m\u001B[33ms\u001B[39;49;00m\u001B[33m\"\u001B[39;49;00m)\u001B[37m\u001B[39;49;00m\r\n",
      "\u001B[37m\u001B[39;49;00m\r\n",
      "    code_path = os.path.join(args.model_dir, \u001B[33m\"\u001B[39;49;00m\u001B[33mcode\u001B[39;49;00m\u001B[33m\"\u001B[39;49;00m)\u001B[37m\u001B[39;49;00m\r\n",
      "    os.makedirs(code_path, exist_ok=\u001B[34mTrue\u001B[39;49;00m)\u001B[37m\u001B[39;49;00m\r\n",
      "    shutil.copy(\u001B[33m\"\u001B[39;49;00m\u001B[33mcompile.py\u001B[39;49;00m\u001B[33m\"\u001B[39;49;00m, os.path.join(code_path, \u001B[33m\"\u001B[39;49;00m\u001B[33minference.py\u001B[39;49;00m\u001B[33m\"\u001B[39;49;00m))\u001B[37m\u001B[39;49;00m\r\n",
      "    shutil.copy(\u001B[33m\"\u001B[39;49;00m\u001B[33mrequirements.txt\u001B[39;49;00m\u001B[33m\"\u001B[39;49;00m, os.path.join(code_path, \u001B[33m\"\u001B[39;49;00m\u001B[33mrequirements.txt\u001B[39;49;00m\u001B[33m\"\u001B[39;49;00m))\u001B[37m\u001B[39;49;00m\r\n",
      "    \u001B[36mprint\u001B[39;49;00m(\u001B[33mf\u001B[39;49;00m\u001B[33m\"\u001B[39;49;00m\u001B[33mJob done!\u001B[39;49;00m\u001B[33m\"\u001B[39;49;00m)\u001B[37m\u001B[39;49;00m\r\n"
     ]
    }
   ],
   "source": [
    "!pygmentize src/compile.py"
   ]
  },
  {
   "cell_type": "markdown",
   "id": "ab929116-c7b6-473c-a21d-f0c6d908fa8b",
   "metadata": {},
   "source": [
    "## 4) SageMaker (training) Job that will download and compile the model\n",
    "\n",
    "**ATTENTION**: You need to run this step only once. Then, you can deploy the compiled model as many times as you need."
   ]
  },
  {
   "cell_type": "code",
   "execution_count": 22,
   "id": "49132be8-9b37-4ec9-8735-94e7d7e6e9e5",
   "metadata": {
    "tags": [],
    "ExecuteTime": {
     "end_time": "2023-12-15T15:39:10.848447Z",
     "start_time": "2023-12-15T15:39:10.681915Z"
    }
   },
   "outputs": [],
   "source": [
    "from sagemaker.pytorch import PyTorch\n",
    "\n",
    "estimator = PyTorch(\n",
    "    entry_point=\"compile.py\", # Specify your train script\n",
    "    source_dir=\"src\",\n",
    "    role=role,\n",
    "    sagemaker_session=sess,    \n",
    "    instance_count=1,\n",
    "    instance_type='ml.trn1.2xlarge',\n",
    "    output_path=f\"s3://{bucket}/output\",\n",
    "    disable_profiler=True,\n",
    "    disable_output_compression=True,\n",
    "\n",
    "    image_uri=f\"763104351884.dkr.ecr.{region}.amazonaws.com/pytorch-training-neuronx:1.13.1-neuronx-py310-sdk2.13.2-ubuntu20.04\",\n",
    "    \n",
    "    volume_size = 128,\n",
    "    hyperparameters={\n",
    "        \"model_id\": \"stabilityai/stable-diffusion-2-1-base\",\n",
    "    }\n",
    ")\n",
    "estimator.framework_version = '1.13.1' # workaround when using image_uri"
   ]
  },
  {
   "cell_type": "code",
   "execution_count": 23,
   "outputs": [],
   "source": [
    "# See https://github.com/aws-samples/sagemaker-ssh-helper\n",
    "from sagemaker_ssh_helper.wrapper import SSHEstimatorWrapper \n",
    "ssh_wrapper = SSHEstimatorWrapper.create(estimator, connection_wait_time_seconds=600) "
   ],
   "metadata": {
    "collapsed": false,
    "ExecuteTime": {
     "end_time": "2023-12-15T15:39:11.313205Z",
     "start_time": "2023-12-15T15:39:10.849785Z"
    }
   },
   "id": "15f0e337086bb5a"
  },
  {
   "cell_type": "code",
   "execution_count": 24,
   "id": "68744806-f877-4025-b1c4-c0fdad17105c",
   "metadata": {
    "tags": [],
    "ExecuteTime": {
     "end_time": "2023-12-15T15:39:12.308302Z",
     "start_time": "2023-12-15T15:39:11.312953Z"
    }
   },
   "outputs": [
    {
     "name": "stdout",
     "output_type": "stream",
     "text": [
      "Using provided s3_resource\n"
     ]
    },
    {
     "name": "stderr",
     "output_type": "stream",
     "text": [
      "INFO:sagemaker:Creating training-job with name: pytorch-training-neuronx-2023-12-15-15-39-11-370\n"
     ]
    }
   ],
   "source": [
    "# this takes ~66.16mins on a trn1.32xlarge\n",
    "estimator.fit(wait=False)"
   ]
  },
  {
   "cell_type": "code",
   "execution_count": null,
   "outputs": [
    {
     "name": "stderr",
     "output_type": "stream",
     "text": [
      "INFO:sagemaker-ssh-helper:Resolving training instance IDs through SSM tags\n",
      "INFO:sagemaker-ssh-helper:Remote training logs are at https://us-east-2.console.aws.amazon.com/cloudwatch/home?region=us-east-2#logsV2:log-groups/log-group/$252Faws$252Fsagemaker$252FTrainingJobs$3FlogStreamNameFilter$3Dpytorch-training-neuronx-2023-12-15-15-39-11-370$252F\n",
      "INFO:sagemaker-ssh-helper:Estimator metadata is at https://us-east-2.console.aws.amazon.com/sagemaker/home?region=us-east-2#/jobs/pytorch-training-neuronx-2023-12-15-15-39-11-370\n",
      "INFO:sagemaker-ssh-helper:SSMManager:Querying SSM instance IDs for training job pytorch-training-neuronx-2023-12-15-15-39-11-370, expected instance count = 1\n",
      "INFO:sagemaker-ssh-helper:SSMManager:Using AWS Region: us-east-2\n"
     ]
    },
    {
     "name": "stdout",
     "output_type": "stream",
     "text": [
      "Remote training logs are at https://us-east-2.console.aws.amazon.com/cloudwatch/home?region=us-east-2#logsV2:log-groups/log-group/$252Faws$252Fsagemaker$252FTrainingJobs$3FlogStreamNameFilter$3Dpytorch-training-neuronx-2023-12-15-15-39-11-370$252F\n",
      "Training job metadata is at https://us-east-2.console.aws.amazon.com/sagemaker/home?region=us-east-2#/jobs/pytorch-training-neuronx-2023-12-15-15-39-11-370\n"
     ]
    },
    {
     "name": "stderr",
     "output_type": "stream",
     "text": [
      "INFO:sagemaker-ssh-helper:SSMManager:No instance IDs found. Seconds left before time out: 900\n",
      "INFO:sagemaker-ssh-helper:SSMManager:No instance IDs found. Seconds left before time out: 890\n",
      "INFO:sagemaker-ssh-helper:SSMManager:No instance IDs found. Seconds left before time out: 880\n",
      "INFO:sagemaker-ssh-helper:SSMManager:No instance IDs found. Seconds left before time out: 870\n",
      "INFO:sagemaker-ssh-helper:SSMManager:No instance IDs found. Seconds left before time out: 860\n",
      "INFO:sagemaker-ssh-helper:SSMManager:No instance IDs found. Seconds left before time out: 850\n",
      "INFO:sagemaker-ssh-helper:SSMManager:No instance IDs found. Seconds left before time out: 840\n",
      "INFO:sagemaker-ssh-helper:SSMManager:No instance IDs found. Seconds left before time out: 830\n",
      "INFO:sagemaker-ssh-helper:SSMManager:No instance IDs found. Seconds left before time out: 820\n",
      "INFO:sagemaker-ssh-helper:SSMManager:No instance IDs found. Seconds left before time out: 810\n"
     ]
    }
   ],
   "source": [
    "ssh_wrapper.print_ssh_info()\n",
    "ssh_wrapper.wait_training_job()"
   ],
   "metadata": {
    "collapsed": false,
    "is_executing": true,
    "ExecuteTime": {
     "start_time": "2023-12-15T15:39:12.308435Z"
    }
   },
   "id": "5dae358906627fbd"
  },
  {
   "cell_type": "code",
   "execution_count": null,
   "id": "ed6dabdf-2641-4ab7-839b-288477b393af",
   "metadata": {
    "tags": [],
    "is_executing": true
   },
   "outputs": [],
   "source": [
    "print(\"\"\"\n",
    "If you decide to run this notebook again, you don't need to re-compile the model.\n",
    "Just keep the following path and use it to deploy the model next time.\n",
    "\"\"\")\n",
    "print(estimator.model_data)"
   ]
  },
  {
   "cell_type": "markdown",
   "id": "afb8775b-6b72-4fea-a120-9285b93a1676",
   "metadata": {},
   "source": [
    "## 5) Deploy the compiled model to a SageMaker endpoint on inf2\n",
    "SageMaker can launch multiple workers, depending on the size of the Inf2 instance. A worker is a standalone Python process that manages one copy of the model. SageMaker puts a load balancer on top of all these processes and distributes the load automatically for your clients. It means that you can increase throughput by launching multiple workers, which serve different clients in parallel.\n",
    "\n",
    "For instance. If you deploy the model to a **ml.inf2.48xlarge**, SageMaker can launch 12 workers with 12 copies of the model. This instance has 24 cores and each copy of the model utilizes 2 cores. Then, you can have 12 simultaneous clients invoking the endpoint and being served at the same time."
   ]
  },
  {
   "cell_type": "code",
   "execution_count": null,
   "id": "29628ca3-fa0e-4fb3-a2ba-c239b41d2f20",
   "metadata": {
    "tags": [],
    "is_executing": true
   },
   "outputs": [],
   "source": [
    "import logging\n",
    "from sagemaker.utils import name_from_base\n",
    "from sagemaker.pytorch.model import PyTorchModel\n",
    "\n",
    "# depending on the inf2 instance you deploy the model you'll have more or less accelerators\n",
    "# we'll ask SageMaker to launch 1 worker per core\n",
    "\n",
    "instance_type_idx = 1\n",
    "instance_types = ['ml.inf2.8xlarge', 'ml.inf2.24xlarge','ml.inf2.48xlarge']\n",
    "num_cores = [2,12,24]\n",
    "num_workers = num_cores[instance_type_idx]//2\n",
    "\n",
    "model_data = estimator.model_data\n",
    "#model_data = {'S3DataSource': {'S3Uri': 's3://sagemaker-us-east-2-555555555555/output/pytorch-training-neuronx-2023-11-29-15-32-12-256/output/model/', 'S3DataType': 'S3Prefix', 'CompressionType': 'None'}}\n",
    "\n",
    "\n",
    "print(f\"Instance type: {instance_types[instance_type_idx]}. Num SM workers: {num_workers}\")\n",
    "pytorch_model = PyTorchModel(\n",
    "    image_uri=f\"763104351884.dkr.ecr.{region}.amazonaws.com/pytorch-inference-neuronx:1.13.1-neuronx-py310-sdk2.14.1-ubuntu20.04\",\n",
    "    model_data=model_data,\n",
    "    role=role,    \n",
    "    name=name_from_base('sd'),\n",
    "    sagemaker_session=sess,\n",
    "    container_log_level=logging.DEBUG,\n",
    "    model_server_workers=num_workers,\n",
    "    framework_version=\"1.13.1\",\n",
    "    env = {\n",
    "        'SAGEMAKER_MODEL_SERVER_TIMEOUT' : '3600',\n",
    "    },\n",
    "    # for production, it is important to define vpc_config and use a vpc_endpoint\n",
    "    #vpc_config={\n",
    "    #    'Subnets': ['<SUBNET1>', '<SUBNET2>'],\n",
    "    #    'SecurityGroupIds': ['<SECURITYGROUP1>', '<DEFAULTSECURITYGROUP>']\n",
    "    #}\n",
    ")\n",
    "pytorch_model._is_compiled_model = True"
   ]
  },
  {
   "cell_type": "code",
   "execution_count": null,
   "outputs": [],
   "source": [
    "# See https://github.com/aws-samples/sagemaker-ssh-helper\n",
    "from sagemaker_ssh_helper.wrapper import SSHModelWrapper\n",
    "ssh_wrapper = SSHModelWrapper.create(pytorch_model, connection_wait_time_seconds=0)"
   ],
   "metadata": {
    "collapsed": false,
    "is_executing": true
   },
   "id": "f36a7ec33b5ba796"
  },
  {
   "cell_type": "code",
   "execution_count": null,
   "id": "c2325d17-aa4e-4cd3-8190-156984cfdac5",
   "metadata": {
    "tags": [],
    "is_executing": true
   },
   "outputs": [],
   "source": [
    "predictor = pytorch_model.deploy(\n",
    "    initial_instance_count=1,\n",
    "    instance_type=instance_types[instance_type_idx],\n",
    "    model_data_download_timeout=600, # it takes some time to download all the artifacts and load the model\n",
    "    container_startup_health_check_timeout=600\n",
    ")"
   ]
  },
  {
   "cell_type": "code",
   "execution_count": null,
   "outputs": [],
   "source": [
    "# See https://github.com/aws-samples/sagemaker-ssh-helper\n",
    "ssh_wrapper.print_ssh_info()"
   ],
   "metadata": {
    "collapsed": false,
    "is_executing": true
   },
   "id": "ea3e7783d45960c1"
  },
  {
   "cell_type": "markdown",
   "id": "c191daec-2ab9-42db-b237-76b110b82ea3",
   "metadata": {},
   "source": [
    "## 6) Run a simple test to check the endpoint"
   ]
  },
  {
   "cell_type": "code",
   "execution_count": null,
   "id": "dd892b26-27c5-4e05-8096-f953e1ee4142",
   "metadata": {
    "tags": [],
    "is_executing": true
   },
   "outputs": [],
   "source": [
    "from sagemaker.serializers import JSONSerializer\n",
    "from sagemaker.deserializers import BytesDeserializer\n",
    "predictor.serializer = JSONSerializer()\n",
    "predictor.deserializer = BytesDeserializer(accept='image/jpeg')"
   ]
  },
  {
   "cell_type": "code",
   "execution_count": null,
   "id": "12f196a1-51a8-4edc-a573-aa6aa6fe65a9",
   "metadata": {
    "tags": [],
    "is_executing": true
   },
   "outputs": [],
   "source": [
    "%matplotlib inline\n",
    "\n",
    "import io\n",
    "import time\n",
    "from PIL import Image\n",
    "import matplotlib.pyplot as plt\n",
    "from multiprocessing.pool import ThreadPool\n",
    "\n",
    "# adjust this number according to the instance size and number of workers\n",
    "num_clients = num_workers\n",
    "input_req = {\n",
    "    \"prompt\": \"A giant crocodile crawling through the jungles with people riding on his top. The crocodile the size of a truck, with his paws serving as the truck wheels\",\n",
    "    # more info about these 2 params here: https://huggingface.co/blog/stable_diffusion\n",
    "    \"num_inference_steps\": 25,\n",
    "    \"guidance_scale\": 7.5\n",
    "}\n",
    "input_reqs = [input_req] * num_clients\n",
    "\n",
    "def predict(req):    \n",
    "    data = predictor.predict(req)\n",
    "    return data\n",
    "\n",
    "print(\"The model latency per prediction in BF16 is ~2.01s (50 iterations) ~1.26s (25 iterations).\")\n",
    "print(\"The time you'll get here also includes IO (data transfer in and out). You can reduce that by defining a VPC-endpoint in the PyTorchModel above.\")\n",
    "with ThreadPool(num_clients) as p:\n",
    "    t = time.time()\n",
    "    data = p.map(predict, input_reqs)\n",
    "    print(f\"{len(data)} images generated in {(time.time()-t):0.2f}s.\")\n",
    "\n",
    "fig = plt.figure(figsize=(10, 10))\n",
    "columns = 2\n",
    "rows = 3\n",
    "j = 0\n",
    "for i in range(1, columns*rows +1):    \n",
    "    fig.add_subplot(rows, columns, i)\n",
    "    plt.imshow(Image.open(io.BytesIO(data[j])))\n",
    "    j += 1\n",
    "plt.show()"
   ]
  },
  {
   "cell_type": "markdown",
   "source": [
    "### Delete the endpoint (manually or scheduled)"
   ],
   "metadata": {
    "collapsed": false
   },
   "id": "869b29b2e2d008c7"
  },
  {
   "cell_type": "code",
   "execution_count": null,
   "outputs": [],
   "source": [
    "import time\n",
    "\n",
    "last_cell_timestamp = time.time()"
   ],
   "metadata": {
    "collapsed": false,
    "is_executing": true
   },
   "id": "dd49d8bc5f9c3e4a"
  },
  {
   "cell_type": "markdown",
   "source": [
    "If you're running the notebook with \"Run All Cells\" command, the above cell and the below cell will be executed automatically one by one and the endpoint will stay active for you to experiment with. It will incur additional hourly charges.\n",
    "\n",
    "However, if you run the below cell manually again after some time depending on the `grace_period_seconds` variable, the endpoint will be gracefully deleted and no further charges will occur.\n",
    "\n",
    "If you forget to delete the endpoint manually, but will keep the notebook kernel instance up and running, the endpoint will be deleted by the background thread depending on the `auto_delete_hours` variable."
   ],
   "metadata": {
    "collapsed": false
   },
   "id": "1c45ccb2a185ffcc"
  },
  {
   "cell_type": "code",
   "execution_count": null,
   "outputs": [],
   "source": [
    "import threading\n",
    "import botocore.exceptions\n",
    "\n",
    "seconds_since_last_cell_timestamp = int(time.time() - last_cell_timestamp)\n",
    "grace_period_seconds = 30\n",
    "auto_delete_hours = 8.0\n",
    "\n",
    "def delete_endpoint():\n",
    "    try:\n",
    "        predictor.delete_endpoint(delete_endpoint_config=False)\n",
    "    except botocore.exceptions.ClientError as e:\n",
    "        # Most likely, already deleted\n",
    "        print(e)\n",
    "        pass\n",
    "    print(\"Endpoint has been deleted.\")\n",
    "    \n",
    "def schedule_auto_delete():\n",
    "    global auto_delete_timer\n",
    "    try:\n",
    "        print(\"Cancelling previous timer...\")\n",
    "        auto_delete_timer.cancel()\n",
    "    except NameError:\n",
    "        print(\"Timer hasn't been yet defined.\")\n",
    "        print(f\"Scheduling the automatic deletion in {auto_delete_hours} hours.\")\n",
    "    else:\n",
    "        print(\"Timer is cancelled.\")\n",
    "        print(f\"Re-scheduling the automatic deletion in {auto_delete_hours} hours.\")\n",
    "    auto_delete_timer = threading.Timer(auto_delete_hours * 60 * 60, delete_endpoint)\n",
    "    auto_delete_timer.start()    \n",
    "\n",
    "print(\"Checking notebook for automated run...\")\n",
    "print(f\"Seconds since last cell execution: {seconds_since_last_cell_timestamp}\")\n",
    "if seconds_since_last_cell_timestamp > grace_period_seconds:\n",
    "    print(\"Cell is executed manually. Deleting endpoint.\")\n",
    "    delete_endpoint()\n",
    "else:\n",
    "    print(\"Cell is executed automatically. Skipping endpoint delete. Don't forget to run the cell again to delete endpoint manually.\")\n",
    "    schedule_auto_delete()"
   ],
   "metadata": {
    "collapsed": false,
    "is_executing": true
   },
   "id": "6a4be2fbe1d00f73"
  },
  {
   "cell_type": "markdown",
   "source": [
    "If you don't want to delete the endpoint right now, but want to extend the automatic deletion instead, run the below cell manually. The countdown for automatic deletion will start over."
   ],
   "metadata": {
    "collapsed": false
   },
   "id": "1cbaa5b92bb014d5"
  },
  {
   "cell_type": "code",
   "execution_count": null,
   "outputs": [],
   "source": [
    "seconds_since_last_cell_timestamp = int(time.time() - last_cell_timestamp)\n",
    "print(f\"Seconds since last cell execution: {seconds_since_last_cell_timestamp}\")\n",
    "\n",
    "if seconds_since_last_cell_timestamp > grace_period_seconds:\n",
    "    print(f\"Cell is executed manually. Re-scheduling the timer.\")\n",
    "    schedule_auto_delete()\n",
    "else:\n",
    "    print(\"Cell is executed automatically. Skipping re-scheduling. Run the cell again to re-schedule deletion.\")"
   ],
   "metadata": {
    "collapsed": false,
    "is_executing": true
   },
   "id": "2701b5462580fb08"
  }
 ],
 "metadata": {
  "availableInstances": [
   {
    "_defaultOrder": 0,
    "_isFastLaunch": true,
    "category": "General purpose",
    "gpuNum": 0,
    "hideHardwareSpecs": false,
    "memoryGiB": 4,
    "name": "ml.t3.medium",
    "vcpuNum": 2
   },
   {
    "_defaultOrder": 1,
    "_isFastLaunch": false,
    "category": "General purpose",
    "gpuNum": 0,
    "hideHardwareSpecs": false,
    "memoryGiB": 8,
    "name": "ml.t3.large",
    "vcpuNum": 2
   },
   {
    "_defaultOrder": 2,
    "_isFastLaunch": false,
    "category": "General purpose",
    "gpuNum": 0,
    "hideHardwareSpecs": false,
    "memoryGiB": 16,
    "name": "ml.t3.xlarge",
    "vcpuNum": 4
   },
   {
    "_defaultOrder": 3,
    "_isFastLaunch": false,
    "category": "General purpose",
    "gpuNum": 0,
    "hideHardwareSpecs": false,
    "memoryGiB": 32,
    "name": "ml.t3.2xlarge",
    "vcpuNum": 8
   },
   {
    "_defaultOrder": 4,
    "_isFastLaunch": true,
    "category": "General purpose",
    "gpuNum": 0,
    "hideHardwareSpecs": false,
    "memoryGiB": 8,
    "name": "ml.m5.large",
    "vcpuNum": 2
   },
   {
    "_defaultOrder": 5,
    "_isFastLaunch": false,
    "category": "General purpose",
    "gpuNum": 0,
    "hideHardwareSpecs": false,
    "memoryGiB": 16,
    "name": "ml.m5.xlarge",
    "vcpuNum": 4
   },
   {
    "_defaultOrder": 6,
    "_isFastLaunch": false,
    "category": "General purpose",
    "gpuNum": 0,
    "hideHardwareSpecs": false,
    "memoryGiB": 32,
    "name": "ml.m5.2xlarge",
    "vcpuNum": 8
   },
   {
    "_defaultOrder": 7,
    "_isFastLaunch": false,
    "category": "General purpose",
    "gpuNum": 0,
    "hideHardwareSpecs": false,
    "memoryGiB": 64,
    "name": "ml.m5.4xlarge",
    "vcpuNum": 16
   },
   {
    "_defaultOrder": 8,
    "_isFastLaunch": false,
    "category": "General purpose",
    "gpuNum": 0,
    "hideHardwareSpecs": false,
    "memoryGiB": 128,
    "name": "ml.m5.8xlarge",
    "vcpuNum": 32
   },
   {
    "_defaultOrder": 9,
    "_isFastLaunch": false,
    "category": "General purpose",
    "gpuNum": 0,
    "hideHardwareSpecs": false,
    "memoryGiB": 192,
    "name": "ml.m5.12xlarge",
    "vcpuNum": 48
   },
   {
    "_defaultOrder": 10,
    "_isFastLaunch": false,
    "category": "General purpose",
    "gpuNum": 0,
    "hideHardwareSpecs": false,
    "memoryGiB": 256,
    "name": "ml.m5.16xlarge",
    "vcpuNum": 64
   },
   {
    "_defaultOrder": 11,
    "_isFastLaunch": false,
    "category": "General purpose",
    "gpuNum": 0,
    "hideHardwareSpecs": false,
    "memoryGiB": 384,
    "name": "ml.m5.24xlarge",
    "vcpuNum": 96
   },
   {
    "_defaultOrder": 12,
    "_isFastLaunch": false,
    "category": "General purpose",
    "gpuNum": 0,
    "hideHardwareSpecs": false,
    "memoryGiB": 8,
    "name": "ml.m5d.large",
    "vcpuNum": 2
   },
   {
    "_defaultOrder": 13,
    "_isFastLaunch": false,
    "category": "General purpose",
    "gpuNum": 0,
    "hideHardwareSpecs": false,
    "memoryGiB": 16,
    "name": "ml.m5d.xlarge",
    "vcpuNum": 4
   },
   {
    "_defaultOrder": 14,
    "_isFastLaunch": false,
    "category": "General purpose",
    "gpuNum": 0,
    "hideHardwareSpecs": false,
    "memoryGiB": 32,
    "name": "ml.m5d.2xlarge",
    "vcpuNum": 8
   },
   {
    "_defaultOrder": 15,
    "_isFastLaunch": false,
    "category": "General purpose",
    "gpuNum": 0,
    "hideHardwareSpecs": false,
    "memoryGiB": 64,
    "name": "ml.m5d.4xlarge",
    "vcpuNum": 16
   },
   {
    "_defaultOrder": 16,
    "_isFastLaunch": false,
    "category": "General purpose",
    "gpuNum": 0,
    "hideHardwareSpecs": false,
    "memoryGiB": 128,
    "name": "ml.m5d.8xlarge",
    "vcpuNum": 32
   },
   {
    "_defaultOrder": 17,
    "_isFastLaunch": false,
    "category": "General purpose",
    "gpuNum": 0,
    "hideHardwareSpecs": false,
    "memoryGiB": 192,
    "name": "ml.m5d.12xlarge",
    "vcpuNum": 48
   },
   {
    "_defaultOrder": 18,
    "_isFastLaunch": false,
    "category": "General purpose",
    "gpuNum": 0,
    "hideHardwareSpecs": false,
    "memoryGiB": 256,
    "name": "ml.m5d.16xlarge",
    "vcpuNum": 64
   },
   {
    "_defaultOrder": 19,
    "_isFastLaunch": false,
    "category": "General purpose",
    "gpuNum": 0,
    "hideHardwareSpecs": false,
    "memoryGiB": 384,
    "name": "ml.m5d.24xlarge",
    "vcpuNum": 96
   },
   {
    "_defaultOrder": 20,
    "_isFastLaunch": false,
    "category": "General purpose",
    "gpuNum": 0,
    "hideHardwareSpecs": true,
    "memoryGiB": 0,
    "name": "ml.geospatial.interactive",
    "supportedImageNames": [
     "sagemaker-geospatial-v1-0"
    ],
    "vcpuNum": 0
   },
   {
    "_defaultOrder": 21,
    "_isFastLaunch": true,
    "category": "Compute optimized",
    "gpuNum": 0,
    "hideHardwareSpecs": false,
    "memoryGiB": 4,
    "name": "ml.c5.large",
    "vcpuNum": 2
   },
   {
    "_defaultOrder": 22,
    "_isFastLaunch": false,
    "category": "Compute optimized",
    "gpuNum": 0,
    "hideHardwareSpecs": false,
    "memoryGiB": 8,
    "name": "ml.c5.xlarge",
    "vcpuNum": 4
   },
   {
    "_defaultOrder": 23,
    "_isFastLaunch": false,
    "category": "Compute optimized",
    "gpuNum": 0,
    "hideHardwareSpecs": false,
    "memoryGiB": 16,
    "name": "ml.c5.2xlarge",
    "vcpuNum": 8
   },
   {
    "_defaultOrder": 24,
    "_isFastLaunch": false,
    "category": "Compute optimized",
    "gpuNum": 0,
    "hideHardwareSpecs": false,
    "memoryGiB": 32,
    "name": "ml.c5.4xlarge",
    "vcpuNum": 16
   },
   {
    "_defaultOrder": 25,
    "_isFastLaunch": false,
    "category": "Compute optimized",
    "gpuNum": 0,
    "hideHardwareSpecs": false,
    "memoryGiB": 72,
    "name": "ml.c5.9xlarge",
    "vcpuNum": 36
   },
   {
    "_defaultOrder": 26,
    "_isFastLaunch": false,
    "category": "Compute optimized",
    "gpuNum": 0,
    "hideHardwareSpecs": false,
    "memoryGiB": 96,
    "name": "ml.c5.12xlarge",
    "vcpuNum": 48
   },
   {
    "_defaultOrder": 27,
    "_isFastLaunch": false,
    "category": "Compute optimized",
    "gpuNum": 0,
    "hideHardwareSpecs": false,
    "memoryGiB": 144,
    "name": "ml.c5.18xlarge",
    "vcpuNum": 72
   },
   {
    "_defaultOrder": 28,
    "_isFastLaunch": false,
    "category": "Compute optimized",
    "gpuNum": 0,
    "hideHardwareSpecs": false,
    "memoryGiB": 192,
    "name": "ml.c5.24xlarge",
    "vcpuNum": 96
   },
   {
    "_defaultOrder": 29,
    "_isFastLaunch": true,
    "category": "Accelerated computing",
    "gpuNum": 1,
    "hideHardwareSpecs": false,
    "memoryGiB": 16,
    "name": "ml.g4dn.xlarge",
    "vcpuNum": 4
   },
   {
    "_defaultOrder": 30,
    "_isFastLaunch": false,
    "category": "Accelerated computing",
    "gpuNum": 1,
    "hideHardwareSpecs": false,
    "memoryGiB": 32,
    "name": "ml.g4dn.2xlarge",
    "vcpuNum": 8
   },
   {
    "_defaultOrder": 31,
    "_isFastLaunch": false,
    "category": "Accelerated computing",
    "gpuNum": 1,
    "hideHardwareSpecs": false,
    "memoryGiB": 64,
    "name": "ml.g4dn.4xlarge",
    "vcpuNum": 16
   },
   {
    "_defaultOrder": 32,
    "_isFastLaunch": false,
    "category": "Accelerated computing",
    "gpuNum": 1,
    "hideHardwareSpecs": false,
    "memoryGiB": 128,
    "name": "ml.g4dn.8xlarge",
    "vcpuNum": 32
   },
   {
    "_defaultOrder": 33,
    "_isFastLaunch": false,
    "category": "Accelerated computing",
    "gpuNum": 4,
    "hideHardwareSpecs": false,
    "memoryGiB": 192,
    "name": "ml.g4dn.12xlarge",
    "vcpuNum": 48
   },
   {
    "_defaultOrder": 34,
    "_isFastLaunch": false,
    "category": "Accelerated computing",
    "gpuNum": 1,
    "hideHardwareSpecs": false,
    "memoryGiB": 256,
    "name": "ml.g4dn.16xlarge",
    "vcpuNum": 64
   },
   {
    "_defaultOrder": 35,
    "_isFastLaunch": false,
    "category": "Accelerated computing",
    "gpuNum": 1,
    "hideHardwareSpecs": false,
    "memoryGiB": 61,
    "name": "ml.p3.2xlarge",
    "vcpuNum": 8
   },
   {
    "_defaultOrder": 36,
    "_isFastLaunch": false,
    "category": "Accelerated computing",
    "gpuNum": 4,
    "hideHardwareSpecs": false,
    "memoryGiB": 244,
    "name": "ml.p3.8xlarge",
    "vcpuNum": 32
   },
   {
    "_defaultOrder": 37,
    "_isFastLaunch": false,
    "category": "Accelerated computing",
    "gpuNum": 8,
    "hideHardwareSpecs": false,
    "memoryGiB": 488,
    "name": "ml.p3.16xlarge",
    "vcpuNum": 64
   },
   {
    "_defaultOrder": 38,
    "_isFastLaunch": false,
    "category": "Accelerated computing",
    "gpuNum": 8,
    "hideHardwareSpecs": false,
    "memoryGiB": 768,
    "name": "ml.p3dn.24xlarge",
    "vcpuNum": 96
   },
   {
    "_defaultOrder": 39,
    "_isFastLaunch": false,
    "category": "Memory Optimized",
    "gpuNum": 0,
    "hideHardwareSpecs": false,
    "memoryGiB": 16,
    "name": "ml.r5.large",
    "vcpuNum": 2
   },
   {
    "_defaultOrder": 40,
    "_isFastLaunch": false,
    "category": "Memory Optimized",
    "gpuNum": 0,
    "hideHardwareSpecs": false,
    "memoryGiB": 32,
    "name": "ml.r5.xlarge",
    "vcpuNum": 4
   },
   {
    "_defaultOrder": 41,
    "_isFastLaunch": false,
    "category": "Memory Optimized",
    "gpuNum": 0,
    "hideHardwareSpecs": false,
    "memoryGiB": 64,
    "name": "ml.r5.2xlarge",
    "vcpuNum": 8
   },
   {
    "_defaultOrder": 42,
    "_isFastLaunch": false,
    "category": "Memory Optimized",
    "gpuNum": 0,
    "hideHardwareSpecs": false,
    "memoryGiB": 128,
    "name": "ml.r5.4xlarge",
    "vcpuNum": 16
   },
   {
    "_defaultOrder": 43,
    "_isFastLaunch": false,
    "category": "Memory Optimized",
    "gpuNum": 0,
    "hideHardwareSpecs": false,
    "memoryGiB": 256,
    "name": "ml.r5.8xlarge",
    "vcpuNum": 32
   },
   {
    "_defaultOrder": 44,
    "_isFastLaunch": false,
    "category": "Memory Optimized",
    "gpuNum": 0,
    "hideHardwareSpecs": false,
    "memoryGiB": 384,
    "name": "ml.r5.12xlarge",
    "vcpuNum": 48
   },
   {
    "_defaultOrder": 45,
    "_isFastLaunch": false,
    "category": "Memory Optimized",
    "gpuNum": 0,
    "hideHardwareSpecs": false,
    "memoryGiB": 512,
    "name": "ml.r5.16xlarge",
    "vcpuNum": 64
   },
   {
    "_defaultOrder": 46,
    "_isFastLaunch": false,
    "category": "Memory Optimized",
    "gpuNum": 0,
    "hideHardwareSpecs": false,
    "memoryGiB": 768,
    "name": "ml.r5.24xlarge",
    "vcpuNum": 96
   },
   {
    "_defaultOrder": 47,
    "_isFastLaunch": false,
    "category": "Accelerated computing",
    "gpuNum": 1,
    "hideHardwareSpecs": false,
    "memoryGiB": 16,
    "name": "ml.g5.xlarge",
    "vcpuNum": 4
   },
   {
    "_defaultOrder": 48,
    "_isFastLaunch": false,
    "category": "Accelerated computing",
    "gpuNum": 1,
    "hideHardwareSpecs": false,
    "memoryGiB": 32,
    "name": "ml.g5.2xlarge",
    "vcpuNum": 8
   },
   {
    "_defaultOrder": 49,
    "_isFastLaunch": false,
    "category": "Accelerated computing",
    "gpuNum": 1,
    "hideHardwareSpecs": false,
    "memoryGiB": 64,
    "name": "ml.g5.4xlarge",
    "vcpuNum": 16
   },
   {
    "_defaultOrder": 50,
    "_isFastLaunch": false,
    "category": "Accelerated computing",
    "gpuNum": 1,
    "hideHardwareSpecs": false,
    "memoryGiB": 128,
    "name": "ml.g5.8xlarge",
    "vcpuNum": 32
   },
   {
    "_defaultOrder": 51,
    "_isFastLaunch": false,
    "category": "Accelerated computing",
    "gpuNum": 1,
    "hideHardwareSpecs": false,
    "memoryGiB": 256,
    "name": "ml.g5.16xlarge",
    "vcpuNum": 64
   },
   {
    "_defaultOrder": 52,
    "_isFastLaunch": false,
    "category": "Accelerated computing",
    "gpuNum": 4,
    "hideHardwareSpecs": false,
    "memoryGiB": 192,
    "name": "ml.g5.12xlarge",
    "vcpuNum": 48
   },
   {
    "_defaultOrder": 53,
    "_isFastLaunch": false,
    "category": "Accelerated computing",
    "gpuNum": 4,
    "hideHardwareSpecs": false,
    "memoryGiB": 384,
    "name": "ml.g5.24xlarge",
    "vcpuNum": 96
   },
   {
    "_defaultOrder": 54,
    "_isFastLaunch": false,
    "category": "Accelerated computing",
    "gpuNum": 8,
    "hideHardwareSpecs": false,
    "memoryGiB": 768,
    "name": "ml.g5.48xlarge",
    "vcpuNum": 192
   },
   {
    "_defaultOrder": 55,
    "_isFastLaunch": false,
    "category": "Accelerated computing",
    "gpuNum": 8,
    "hideHardwareSpecs": false,
    "memoryGiB": 1152,
    "name": "ml.p4d.24xlarge",
    "vcpuNum": 96
   },
   {
    "_defaultOrder": 56,
    "_isFastLaunch": false,
    "category": "Accelerated computing",
    "gpuNum": 8,
    "hideHardwareSpecs": false,
    "memoryGiB": 1152,
    "name": "ml.p4de.24xlarge",
    "vcpuNum": 96
   }
  ],
  "kernelspec": {
   "name": "python3",
   "language": "python",
   "display_name": "Python 3 (ipykernel)"
  },
  "language_info": {
   "codemirror_mode": {
    "name": "ipython",
    "version": 3
   },
   "file_extension": ".py",
   "mimetype": "text/x-python",
   "name": "python",
   "nbconvert_exporter": "python",
   "pygments_lexer": "ipython3",
   "version": "3.9.16"
  }
 },
 "nbformat": 4,
 "nbformat_minor": 5
}
